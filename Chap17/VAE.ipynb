{
  "nbformat": 4,
  "nbformat_minor": 0,
  "metadata": {
    "colab": {
      "provenance": [],
      "gpuType": "T4",
      "authorship_tag": "ABX9TyOMYyhAnVga9rTivT6Ne8Pd",
      "include_colab_link": true
    },
    "kernelspec": {
      "name": "python3",
      "display_name": "Python 3"
    },
    "language_info": {
      "name": "python"
    },
    "accelerator": "GPU"
  },
  "cells": [
    {
      "cell_type": "markdown",
      "metadata": {
        "id": "view-in-github",
        "colab_type": "text"
      },
      "source": [
        "<a href=\"https://colab.research.google.com/github/dauvannam321/UDLBook/blob/main/Chap17/VAE.ipynb\" target=\"_parent\"><img src=\"https://colab.research.google.com/assets/colab-badge.svg\" alt=\"Open In Colab\"/></a>"
      ]
    },
    {
      "cell_type": "code",
      "execution_count": 1,
      "metadata": {
        "id": "b-LyzMuPmzce"
      },
      "outputs": [],
      "source": [
        "import torch\n",
        "import torchvision\n",
        "import matplotlib.pyplot as plt\n",
        "from torchvision import transforms\n",
        "from torch import nn\n",
        "from torch import optim\n",
        "from tqdm import tqdm\n",
        "import numpy as np\n",
        "import torch.nn.functional as F\n",
        "torch.manual_seed(42)\n",
        "np.random.seed(42)"
      ]
    },
    {
      "cell_type": "code",
      "source": [
        "device = 'cuda:0' if torch.cuda.is_available() else 'cpu'\n",
        "train_size = 0.9\n",
        "lr = 1e-3\n",
        "eps = 1e-8\n",
        "batch_size = 256\n",
        "epochs = 30"
      ],
      "metadata": {
        "id": "FGZyNsex188J"
      },
      "execution_count": 2,
      "outputs": []
    },
    {
      "cell_type": "code",
      "source": [
        "def mnist(train_part, transform=None):\n",
        "    dataset = torchvision.datasets.MNIST('.', download=True, transform=transform)\n",
        "    train_part = int(train_part * len(dataset))\n",
        "    train_dataset, test_dataset = torch.utils.data.random_split(dataset, [train_part, len(dataset) - train_part])\n",
        "    return train_dataset, test_dataset"
      ],
      "metadata": {
        "id": "2ta7zQ2a1_4I"
      },
      "execution_count": 3,
      "outputs": []
    },
    {
      "cell_type": "code",
      "source": [
        "transform = transforms.Compose([transforms.ToTensor()])\n",
        "\n",
        "train_dataset, test_dataset = mnist(train_size, transform)\n",
        "\n",
        "train_dataloader = torch.utils.data.DataLoader(train_dataset, drop_last=True, batch_size=batch_size, shuffle=True)\n",
        "test_dataloader = torch.utils.data.DataLoader(test_dataset, batch_size=1, shuffle=False)\n",
        "dataloaders = (train_dataloader, test_dataloader)"
      ],
      "metadata": {
        "colab": {
          "base_uri": "https://localhost:8080/"
        },
        "id": "hUCTJv_s2CwN",
        "outputId": "5c62e710-f7c4-4e06-ba38-811a11e646bb"
      },
      "execution_count": 4,
      "outputs": [
        {
          "output_type": "stream",
          "name": "stdout",
          "text": [
            "Downloading http://yann.lecun.com/exdb/mnist/train-images-idx3-ubyte.gz\n",
            "Downloading http://yann.lecun.com/exdb/mnist/train-images-idx3-ubyte.gz to ./MNIST/raw/train-images-idx3-ubyte.gz\n"
          ]
        },
        {
          "output_type": "stream",
          "name": "stderr",
          "text": [
            "100%|██████████| 9912422/9912422 [00:00<00:00, 116333117.63it/s]"
          ]
        },
        {
          "output_type": "stream",
          "name": "stdout",
          "text": [
            "Extracting ./MNIST/raw/train-images-idx3-ubyte.gz to ./MNIST/raw\n"
          ]
        },
        {
          "output_type": "stream",
          "name": "stderr",
          "text": [
            "\n"
          ]
        },
        {
          "output_type": "stream",
          "name": "stdout",
          "text": [
            "\n",
            "Downloading http://yann.lecun.com/exdb/mnist/train-labels-idx1-ubyte.gz\n",
            "Downloading http://yann.lecun.com/exdb/mnist/train-labels-idx1-ubyte.gz to ./MNIST/raw/train-labels-idx1-ubyte.gz\n"
          ]
        },
        {
          "output_type": "stream",
          "name": "stderr",
          "text": [
            "100%|██████████| 28881/28881 [00:00<00:00, 55771498.08it/s]\n"
          ]
        },
        {
          "output_type": "stream",
          "name": "stdout",
          "text": [
            "Extracting ./MNIST/raw/train-labels-idx1-ubyte.gz to ./MNIST/raw\n",
            "\n",
            "Downloading http://yann.lecun.com/exdb/mnist/t10k-images-idx3-ubyte.gz\n",
            "Downloading http://yann.lecun.com/exdb/mnist/t10k-images-idx3-ubyte.gz to ./MNIST/raw/t10k-images-idx3-ubyte.gz\n"
          ]
        },
        {
          "output_type": "stream",
          "name": "stderr",
          "text": [
            "100%|██████████| 1648877/1648877 [00:00<00:00, 124494012.76it/s]"
          ]
        },
        {
          "output_type": "stream",
          "name": "stdout",
          "text": [
            "Extracting ./MNIST/raw/t10k-images-idx3-ubyte.gz to ./MNIST/raw\n",
            "\n",
            "Downloading http://yann.lecun.com/exdb/mnist/t10k-labels-idx1-ubyte.gz\n"
          ]
        },
        {
          "output_type": "stream",
          "name": "stderr",
          "text": [
            "\n"
          ]
        },
        {
          "output_type": "stream",
          "name": "stdout",
          "text": [
            "Downloading http://yann.lecun.com/exdb/mnist/t10k-labels-idx1-ubyte.gz to ./MNIST/raw/t10k-labels-idx1-ubyte.gz\n"
          ]
        },
        {
          "output_type": "stream",
          "name": "stderr",
          "text": [
            "100%|██████████| 4542/4542 [00:00<00:00, 20374897.08it/s]\n"
          ]
        },
        {
          "output_type": "stream",
          "name": "stdout",
          "text": [
            "Extracting ./MNIST/raw/t10k-labels-idx1-ubyte.gz to ./MNIST/raw\n",
            "\n"
          ]
        }
      ]
    },
    {
      "cell_type": "code",
      "source": [
        "def noisify(shapes):\n",
        "    return np.random.normal(loc=0.5, scale=0.3, size=shapes)"
      ],
      "metadata": {
        "id": "rG8ylYeg2LBG"
      },
      "execution_count": 5,
      "outputs": []
    },
    {
      "cell_type": "code",
      "source": [
        "def plotn(n, data, noisy=False, super_res=None):\n",
        "    fig, ax = plt.subplots(1, n)\n",
        "    for i, z in enumerate(data):\n",
        "        if i == n:\n",
        "            break\n",
        "        preprocess = z[0].reshape(1, 28, 28) if z[0].shape[1] == 28 else z[0].reshape(1, 14, 14) if z[0].shape[1] == 14 else z[0]\n",
        "        if super_res is not None:\n",
        "            _transform = transforms.Resize((int(preprocess.shape[1] / super_res), int(preprocess.shape[2] / super_res)))\n",
        "            preprocess = _transform(preprocess)\n",
        "\n",
        "        if noisy:\n",
        "            shapes = list(preprocess.shape)\n",
        "            preprocess += noisify(shapes)\n",
        "\n",
        "        ax[i].imshow(preprocess[0])\n",
        "    plt.show()"
      ],
      "metadata": {
        "id": "UW_dcBMk2FFo"
      },
      "execution_count": 6,
      "outputs": []
    },
    {
      "cell_type": "code",
      "source": [
        "plotn(5, train_dataset)"
      ],
      "metadata": {
        "colab": {
          "base_uri": "https://localhost:8080/",
          "height": 150
        },
        "id": "U9iN_Ap62JTX",
        "outputId": "f1864566-975b-41b0-e21b-9b854b3c80d0"
      },
      "execution_count": 7,
      "outputs": [
        {
          "output_type": "display_data",
          "data": {
            "text/plain": [
              "<Figure size 640x480 with 5 Axes>"
            ],
            "image/png": "[encoded data removed]"
          },
          "metadata": {}
        }
      ]
    },
    {
      "cell_type": "code",
      "source": [
        "class VAEEncoder(nn.Module):\n",
        "    def __init__(self, device):\n",
        "        super().__init__()\n",
        "        self.intermediate_dim = 512\n",
        "        self.latent_dim = 2\n",
        "        self.linear = nn.Linear(784, self.intermediate_dim)\n",
        "        self.z_mean = nn.Linear(self.intermediate_dim, self.latent_dim)\n",
        "        self.z_log = nn.Linear(self.intermediate_dim, self.latent_dim)\n",
        "        self.relu = nn.ReLU()\n",
        "        self.device = device\n",
        "\n",
        "    def forward(self, input):\n",
        "        bs = input.shape[0]\n",
        "\n",
        "        hidden = self.relu(self.linear(input))\n",
        "        z_mean = self.z_mean(hidden)\n",
        "        z_log = self.z_log(hidden)\n",
        "\n",
        "        eps = torch.FloatTensor(np.random.normal(size=(bs, self.latent_dim))).to(device)\n",
        "        z_val = z_mean + torch.exp(z_log) * eps\n",
        "        return z_mean, z_log, z_val"
      ],
      "metadata": {
        "id": "D3IsUzCp2Rua"
      },
      "execution_count": 8,
      "outputs": []
    },
    {
      "cell_type": "code",
      "source": [
        "class VAEDecoder(nn.Module):\n",
        "    def __init__(self):\n",
        "        super().__init__()\n",
        "        self.intermediate_dim = 512\n",
        "        self.latent_dim = 2\n",
        "        self.linear = nn.Linear(self.latent_dim, self.intermediate_dim)\n",
        "        self.output = nn.Linear(self.intermediate_dim, 784)\n",
        "        self.relu = nn.ReLU()\n",
        "        self.sigmoid = nn.Sigmoid()\n",
        "\n",
        "    def forward(self, input):\n",
        "        hidden = self.relu(self.linear(input))\n",
        "        decoded = self.sigmoid(self.output(hidden))\n",
        "        return decoded"
      ],
      "metadata": {
        "id": "P4o1dKg42TL1"
      },
      "execution_count": 9,
      "outputs": []
    },
    {
      "cell_type": "code",
      "source": [
        "class VAEAutoEncoder(nn.Module):\n",
        "    def __init__(self, device):\n",
        "        super().__init__()\n",
        "        self.encoder = VAEEncoder(device)\n",
        "        self.decoder = VAEDecoder()\n",
        "        self.z_vals = None\n",
        "\n",
        "    def forward(self, input):\n",
        "        bs, c, h, w = input.shape[0], input.shape[1], input.shape[2], input.shape[3]\n",
        "        input = input.view(bs, -1)\n",
        "        encoded = self.encoder(input)\n",
        "        self.z_vals = encoded\n",
        "        decoded = self.decoder(encoded[2])\n",
        "        return decoded\n",
        "\n",
        "    def get_zvals(self):\n",
        "        return self.z_vals"
      ],
      "metadata": {
        "id": "33RxA5NS2dDK"
      },
      "execution_count": 85,
      "outputs": []
    },
    {
      "cell_type": "code",
      "source": [
        "def vae_loss(preds, targets, z_vals):\n",
        "    mse = nn.MSELoss()\n",
        "    reconstruction_loss = mse(preds, targets.view(targets.shape[0], -1)) * 784.0\n",
        "    temp = 1.0 + z_vals[1] - torch.square(z_vals[0]) - torch.exp(z_vals[1])\n",
        "    kl_loss = -0.5 * torch.sum(temp, axis=-1)\n",
        "    return torch.mean(reconstruction_loss + kl_loss)"
      ],
      "metadata": {
        "id": "CiKWUsAo2fdz"
      },
      "execution_count": 11,
      "outputs": []
    },
    {
      "cell_type": "code",
      "source": [
        "model = VAEAutoEncoder(device).to(device)\n",
        "optimizer = optim.RMSprop(model.parameters(), lr=lr, eps=eps)"
      ],
      "metadata": {
        "id": "AtSCylEu2hO7"
      },
      "execution_count": 12,
      "outputs": []
    },
    {
      "cell_type": "code",
      "source": [
        "def train_vae(dataloaders, model, optimizer, epochs, device):\n",
        "    tqdm_iter = tqdm(range(epochs))\n",
        "    train_dataloader, test_dataloader = dataloaders[0], dataloaders[1]\n",
        "\n",
        "    train_losses = []\n",
        "    test_losses = []\n",
        "    for epoch in tqdm_iter:\n",
        "        model.train()\n",
        "        train_loss = 0.0\n",
        "        test_loss = 0.0\n",
        "\n",
        "        for batch in train_dataloader:\n",
        "            imgs, labels = batch\n",
        "            imgs = imgs.to(device)\n",
        "            labels = labels.to(device)\n",
        "\n",
        "            preds = model(imgs)\n",
        "            z_vals = model.get_zvals()\n",
        "            loss = vae_loss(preds, imgs, z_vals)\n",
        "\n",
        "            optimizer.zero_grad()\n",
        "            loss.backward()\n",
        "            optimizer.step()\n",
        "\n",
        "            train_loss += loss.item()\n",
        "\n",
        "        model.eval()\n",
        "        with torch.no_grad():\n",
        "            for batch in test_dataloader:\n",
        "                imgs, labels = batch\n",
        "                imgs = imgs.to(device)\n",
        "                labels = labels.to(device)\n",
        "\n",
        "                preds = model(imgs)\n",
        "                z_vals = model.get_zvals()\n",
        "                loss = vae_loss(preds, imgs, z_vals)\n",
        "\n",
        "                test_loss += loss.item()\n",
        "\n",
        "        train_loss /= len(train_dataloader)\n",
        "        test_loss /= len(test_dataloader)\n",
        "\n",
        "        train_losses.append(train_loss)\n",
        "        test_losses.append(test_loss)\n",
        "\n",
        "        tqdm_dct = {'train loss:': train_loss, 'test loss:': test_loss}\n",
        "        tqdm_iter.set_postfix(tqdm_dct, refresh=True)\n",
        "        tqdm_iter.refresh()\n",
        "\n",
        "    return train_losses, test_losses"
      ],
      "metadata": {
        "id": "47UtuvGP2i0y"
      },
      "execution_count": 13,
      "outputs": []
    },
    {
      "cell_type": "code",
      "source": [
        "history = train_vae(dataloaders, model, optimizer, epochs, device)"
      ],
      "metadata": {
        "colab": {
          "base_uri": "https://localhost:8080/"
        },
        "id": "YCS80cUM2t7s",
        "outputId": "23f72ed0-0596-499e-e8a5-116e78664f95"
      },
      "execution_count": 14,
      "outputs": [
        {
          "output_type": "stream",
          "name": "stderr",
          "text": [
            "100%|██████████| 30/30 [06:28<00:00, 12.94s/it, train loss:=35.2, test loss:=35.8]\n"
          ]
        }
      ]
    },
    {
      "cell_type": "code",
      "source": [
        "# Example data (replace these lists with your actual data)\n",
        "train_loss, test_loss = history\n",
        "\n",
        "# Plotting the training and test loss\n",
        "epochs = range(1, len(train_loss) + 1)\n",
        "\n",
        "plt.plot(epochs, train_loss, label='Train Loss')\n",
        "plt.plot(epochs, test_loss, label='Test Loss')\n",
        "\n",
        "# Adding labels and a legend\n",
        "plt.xlabel('Epochs')\n",
        "plt.ylabel('Loss')\n",
        "plt.title('Training and Test Loss Over Epochs')\n",
        "plt.legend()\n",
        "\n",
        "# Display the plot\n",
        "plt.show()"
      ],
      "metadata": {
        "colab": {
          "base_uri": "https://localhost:8080/",
          "height": 472
        },
        "id": "Tg-R4nIR9hWW",
        "outputId": "cd5d4b9e-2331-4d71-8df2-e377ea9aff4a"
      },
      "execution_count": 15,
      "outputs": [
        {
          "output_type": "display_data",
          "data": {
            "text/plain": [
              "<Figure size 640x480 with 1 Axes>"
            ],
            "image/png": "[encoded data removed]"
          },
          "metadata": {}
        }
      ]
    },
    {
      "cell_type": "code",
      "source": [
        "model.eval()\n",
        "predictions = []\n",
        "plots = 5\n",
        "for i, data in enumerate(test_dataset):\n",
        "    if i == plots:\n",
        "        break\n",
        "    predictions.append(model(data[0].to(device).unsqueeze(0)).view(1, 28, 28).detach().cpu())\n",
        "plotn(plots, test_dataset)\n",
        "plotn(plots, predictions)"
      ],
      "metadata": {
        "colab": {
          "base_uri": "https://localhost:8080/",
          "height": 283
        },
        "id": "fEHvCti33VUN",
        "outputId": "710b4cde-041c-4c7b-ca7d-4c946dea2cb9"
      },
      "execution_count": 36,
      "outputs": [
        {
          "output_type": "display_data",
          "data": {
            "text/plain": [
              "<Figure size 640x480 with 5 Axes>"
            ],
            "image/png": "[encoded data removed]"
          },
          "metadata": {}
        },
        {
          "output_type": "display_data",
          "data": {
            "text/plain": [
              "<Figure size 640x480 with 5 Axes>"
            ],
            "image/png": "[encoded data removed]"
          },
          "metadata": {}
        }
      ]
    },
    {
      "cell_type": "code",
      "source": [
        "print(predictions[0].shape)"
      ],
      "metadata": {
        "colab": {
          "base_uri": "https://localhost:8080/"
        },
        "id": "2s_kx_idExeW",
        "outputId": "46773eaf-2713-43e1-a522-5e347fec1c21"
      },
      "execution_count": 46,
      "outputs": [
        {
          "output_type": "stream",
          "name": "stdout",
          "text": [
            "torch.Size([1, 28, 28])\n"
          ]
        }
      ]
    },
    {
      "cell_type": "markdown",
      "source": [
        "# **Generate image**"
      ],
      "metadata": {
        "id": "J9INCfHd-la6"
      }
    },
    {
      "cell_type": "code",
      "source": [
        "output = _\n",
        "for batch in train_dataloader:\n",
        "  imgs, labels = batch\n",
        "  imgs = imgs.to(device)\n",
        "  base_img_to_get_generate = imgs[0]\n",
        "  output = model(base_img_to_get_generate.to(device).unsqueeze(0)).view(1, 28, 28).detach().cpu()\n",
        "\n",
        "  image_array = output.view(28,28).detach().cpu().numpy()\n",
        "\n",
        "  # Plot the image\n",
        "  plt.imshow(image_array)\n",
        "  plt.show()\n",
        "  break"
      ],
      "metadata": {
        "colab": {
          "base_uri": "https://localhost:8080/",
          "height": 430
        },
        "id": "vLoI880sCImy",
        "outputId": "d96481c7-3ab5-4649-cdc0-423999900658"
      },
      "execution_count": 156,
      "outputs": [
        {
          "output_type": "display_data",
          "data": {
            "text/plain": [
              "<Figure size 640x480 with 1 Axes>"
            ],
            "image/png": "[encoded data removed]"
          },
          "metadata": {}
        }
      ]
    },
    {
      "cell_type": "code",
      "source": [
        "z_mean, z_log, z_value = model.get_zvals()"
      ],
      "metadata": {
        "id": "MDvnuhTs_PH_"
      },
      "execution_count": 157,
      "outputs": []
    },
    {
      "cell_type": "code",
      "source": [
        "def reparameterize(mu, logvar):\n",
        "  std = torch.exp(0.5 * logvar)\n",
        "  eps = torch.randn_like(std)\n",
        "  return eps * std + mu"
      ],
      "metadata": {
        "id": "lhm1TCJeIqOq"
      },
      "execution_count": 158,
      "outputs": []
    },
    {
      "cell_type": "code",
      "source": [
        "new_z_value = reparameterize(z_mean, z_log)"
      ],
      "metadata": {
        "id": "xFZ3n5f_I648"
      },
      "execution_count": 159,
      "outputs": []
    },
    {
      "cell_type": "code",
      "source": [
        "generated_img = model.decoder(z_value)\n",
        "generated_img1 = model.decoder(new_z_value)"
      ],
      "metadata": {
        "id": "V7OaKOz2J67I"
      },
      "execution_count": 160,
      "outputs": []
    },
    {
      "cell_type": "code",
      "source": [],
      "metadata": {
        "id": "UT_2QNu-MGoQ"
      },
      "execution_count": 160,
      "outputs": []
    },
    {
      "cell_type": "code",
      "source": [
        "def plot_result(generated_img):\n",
        "  image_tensor = generated_img.view(28, 28)\n",
        "\n",
        "  # Convert to a NumPy array for plotting\n",
        "  image_array = image_tensor.detach().cpu().numpy()\n",
        "  # Plot the image\n",
        "  plt.imshow(image_array)\n",
        "  plt.show()"
      ],
      "metadata": {
        "id": "OGEmdA1RKaX_"
      },
      "execution_count": 161,
      "outputs": []
    },
    {
      "cell_type": "code",
      "source": [
        "plot_result(generated_img)"
      ],
      "metadata": {
        "colab": {
          "base_uri": "https://localhost:8080/",
          "height": 430
        },
        "id": "GxvgNkcMMTBI",
        "outputId": "75faf5ef-457d-4cdf-c9bc-ddbfa9a7ecac"
      },
      "execution_count": 162,
      "outputs": [
        {
          "output_type": "display_data",
          "data": {
            "text/plain": [
              "<Figure size 640x480 with 1 Axes>"
            ],
            "image/png": "[encoded data removed]"
          },
          "metadata": {}
        }
      ]
    },
    {
      "cell_type": "code",
      "source": [
        "plot_result(generated_img1)"
      ],
      "metadata": {
        "colab": {
          "base_uri": "https://localhost:8080/",
          "height": 430
        },
        "id": "aYpZi0WWMUmM",
        "outputId": "51a688ad-c0ef-42bd-a80e-94437ee10430"
      },
      "execution_count": 163,
      "outputs": [
        {
          "output_type": "display_data",
          "data": {
            "text/plain": [
              "<Figure size 640x480 with 1 Axes>"
            ],
            "image/png": "[encoded data removed]"
          },
          "metadata": {}
        }
      ]
    }
  ]
}